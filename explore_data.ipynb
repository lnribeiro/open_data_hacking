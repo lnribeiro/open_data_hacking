{
 "cells": [
  {
   "cell_type": "code",
   "execution_count": 1,
   "metadata": {
    "collapsed": true
   },
   "outputs": [],
   "source": [
    "import pandas as pd\n",
    "import matplotlib.pyplot as plt"
   ]
  },
  {
   "cell_type": "code",
   "execution_count": 2,
   "metadata": {
    "collapsed": true
   },
   "outputs": [],
   "source": [
    "zedus = pd.read_csv('./data/zedus.csv')\n",
    "zedus.info()\n",
    "zedus.head(10)"
   ]
  },
  {
   "cell_type": "code",
   "execution_count": 8,
   "metadata": {
    "collapsed": false
   },
   "outputs": [
    {
     "name": "stdout",
     "output_type": "stream",
     "text": [
      "<class 'pandas.core.frame.DataFrame'>\n",
      "RangeIndex: 100 entries, 0 to 99\n",
      "Data columns (total 8 columns):\n",
      "FID          100 non-null object\n",
      "GID          100 non-null int64\n",
      "NOME         100 non-null object\n",
      "TTOMB        100 non-null object\n",
      "DESCRICAO    100 non-null object\n",
      "FONTE        100 non-null object\n",
      "ANO_REF      100 non-null int64\n",
      "THE_GEOM     100 non-null object\n",
      "dtypes: int64(2), object(6)\n",
      "memory usage: 6.3+ KB\n"
     ]
    },
    {
     "data": {
      "text/html": [
       "<div>\n",
       "<table border=\"1\" class=\"dataframe\">\n",
       "  <thead>\n",
       "    <tr style=\"text-align: right;\">\n",
       "      <th></th>\n",
       "      <th>FID</th>\n",
       "      <th>GID</th>\n",
       "      <th>NOME</th>\n",
       "      <th>TTOMB</th>\n",
       "      <th>DESCRICAO</th>\n",
       "      <th>FONTE</th>\n",
       "      <th>ANO_REF</th>\n",
       "      <th>THE_GEOM</th>\n",
       "    </tr>\n",
       "  </thead>\n",
       "  <tbody>\n",
       "    <tr>\n",
       "      <th>0</th>\n",
       "      <td>Bens Tombados.fid-2be50750_153af4824fe_1758</td>\n",
       "      <td>1</td>\n",
       "      <td>Fortaleza de Nossa Senhora de Assunção</td>\n",
       "      <td>Federal</td>\n",
       "      <td>&lt;br&gt;&lt;strong&gt;Endereço: &lt;/strong&gt;Avenida Alberto...</td>\n",
       "      <td>SECULTFOR</td>\n",
       "      <td>2016</td>\n",
       "      <td>POINT (-38.525003906569 -3.7228432271915)</td>\n",
       "    </tr>\n",
       "    <tr>\n",
       "      <th>1</th>\n",
       "      <td>Bens Tombados.fid-2be50750_153af4824fe_1759</td>\n",
       "      <td>2</td>\n",
       "      <td>Palacete Carvalho Motta - Centro de Documentaç...</td>\n",
       "      <td>Federal</td>\n",
       "      <td>&lt;br&gt;&lt;strong&gt;Endereço: &lt;/strong&gt;Rua Pedro Perei...</td>\n",
       "      <td>SECULTFOR</td>\n",
       "      <td>2016</td>\n",
       "      <td>POINT (-38.531430649074 -3.7287792147965)</td>\n",
       "    </tr>\n",
       "    <tr>\n",
       "      <th>2</th>\n",
       "      <td>Bens Tombados.fid-2be50750_153af4824fe_175a</td>\n",
       "      <td>3</td>\n",
       "      <td>Passeio Público - Praça dos Mártires</td>\n",
       "      <td>Federal</td>\n",
       "      <td>&lt;br&gt;&lt;strong&gt;Endereço: &lt;/strong&gt;Rua Doutor João...</td>\n",
       "      <td>SECULTFOR</td>\n",
       "      <td>2016</td>\n",
       "      <td>POINT (-38.5263149 -3.7226575)</td>\n",
       "    </tr>\n",
       "    <tr>\n",
       "      <th>3</th>\n",
       "      <td>Bens Tombados.fid-2be50750_153af4824fe_175b</td>\n",
       "      <td>4</td>\n",
       "      <td>Theatro José de Alencar</td>\n",
       "      <td>Federal</td>\n",
       "      <td>&lt;br&gt;&lt;strong&gt;Endereço: &lt;/strong&gt;Rua Liberato Ba...</td>\n",
       "      <td>SECULTFOR</td>\n",
       "      <td>2016</td>\n",
       "      <td>POINT (-38.5319087 -3.7274778)</td>\n",
       "    </tr>\n",
       "    <tr>\n",
       "      <th>4</th>\n",
       "      <td>Bens Tombados.fid-2be50750_153af4824fe_175c</td>\n",
       "      <td>5</td>\n",
       "      <td>Antiga Alfândega</td>\n",
       "      <td>Estadual</td>\n",
       "      <td>&lt;br&gt;&lt;strong&gt;Endereço: &lt;/strong&gt;Avenida Pessoa ...</td>\n",
       "      <td>SECULTFOR</td>\n",
       "      <td>2016</td>\n",
       "      <td>POINT (-38.5204303 -3.7208668)</td>\n",
       "    </tr>\n",
       "  </tbody>\n",
       "</table>\n",
       "</div>"
      ],
      "text/plain": [
       "                                           FID  GID  \\\n",
       "0  Bens Tombados.fid-2be50750_153af4824fe_1758    1   \n",
       "1  Bens Tombados.fid-2be50750_153af4824fe_1759    2   \n",
       "2  Bens Tombados.fid-2be50750_153af4824fe_175a    3   \n",
       "3  Bens Tombados.fid-2be50750_153af4824fe_175b    4   \n",
       "4  Bens Tombados.fid-2be50750_153af4824fe_175c    5   \n",
       "\n",
       "                                                NOME     TTOMB  \\\n",
       "0             Fortaleza de Nossa Senhora de Assunção   Federal   \n",
       "1  Palacete Carvalho Motta - Centro de Documentaç...   Federal   \n",
       "2               Passeio Público - Praça dos Mártires   Federal   \n",
       "3                            Theatro José de Alencar   Federal   \n",
       "4                                   Antiga Alfândega  Estadual   \n",
       "\n",
       "                                           DESCRICAO      FONTE  ANO_REF  \\\n",
       "0  <br><strong>Endereço: </strong>Avenida Alberto...  SECULTFOR     2016   \n",
       "1  <br><strong>Endereço: </strong>Rua Pedro Perei...  SECULTFOR     2016   \n",
       "2  <br><strong>Endereço: </strong>Rua Doutor João...  SECULTFOR     2016   \n",
       "3  <br><strong>Endereço: </strong>Rua Liberato Ba...  SECULTFOR     2016   \n",
       "4  <br><strong>Endereço: </strong>Avenida Pessoa ...  SECULTFOR     2016   \n",
       "\n",
       "                                    THE_GEOM  \n",
       "0  POINT (-38.525003906569 -3.7228432271915)  \n",
       "1  POINT (-38.531430649074 -3.7287792147965)  \n",
       "2             POINT (-38.5263149 -3.7226575)  \n",
       "3             POINT (-38.5319087 -3.7274778)  \n",
       "4             POINT (-38.5204303 -3.7208668)  "
      ]
     },
     "execution_count": 8,
     "metadata": {},
     "output_type": "execute_result"
    }
   ],
   "source": [
    "bens = pd.read_csv('./data/benstombados.csv')\n",
    "bens.info()\n",
    "bens.head()"
   ]
  },
  {
   "cell_type": "code",
   "execution_count": null,
   "metadata": {
    "collapsed": true
   },
   "outputs": [],
   "source": []
  }
 ],
 "metadata": {
  "anaconda-cloud": {},
  "kernelspec": {
   "display_name": "Python [Root]",
   "language": "python",
   "name": "Python [Root]"
  },
  "language_info": {
   "codemirror_mode": {
    "name": "ipython",
    "version": 3
   },
   "file_extension": ".py",
   "mimetype": "text/x-python",
   "name": "python",
   "nbconvert_exporter": "python",
   "pygments_lexer": "ipython3",
   "version": "3.5.2"
  }
 },
 "nbformat": 4,
 "nbformat_minor": 0
}
